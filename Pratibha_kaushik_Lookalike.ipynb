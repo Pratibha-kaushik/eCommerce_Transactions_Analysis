{
 "cells": [
  {
   "cell_type": "markdown",
   "id": "ce064875",
   "metadata": {},
   "source": [
    "# Lookalike Model"
   ]
  },
  {
   "cell_type": "code",
   "execution_count": null,
   "id": "ba75013c",
   "metadata": {},
   "outputs": [],
   "source": [
    "\n",
    "import pandas as pd\n",
    "from sklearn.preprocessing import StandardScaler\n",
    "from sklearn.metrics.pairwise import cosine_similarity\n",
    "\n",
    "# Load datasets\n",
    "customers = pd.read_csv('Customers.csv')\n",
    "transactions = pd.read_csv('Transactions.csv')\n",
    "\n",
    "# Aggregate transaction data\n",
    "customer_transactions = transactions.groupby('CustomerID').agg({\n",
    "    'TotalValue': 'sum',\n",
    "    'Quantity': 'sum'\n",
    "}).reset_index()\n",
    "\n",
    "# Merge with customer profile\n",
    "customer_profile = pd.merge(customers, customer_transactions, on='CustomerID', how='left').fillna(0)\n",
    "customer_profile_encoded = pd.get_dummies(customer_profile[['Region']], drop_first=True)\n",
    "\n",
    "# Standardize features\n",
    "features = pd.concat([customer_profile[['TotalValue', 'Quantity']], customer_profile_encoded], axis=1)\n",
    "scaler = StandardScaler()\n",
    "features_scaled = scaler.fit_transform(features)\n",
    "\n",
    "# Cosine similarity\n",
    "similarity_matrix = cosine_similarity(features_scaled)\n",
    "\n",
    "# Generate recommendations\n",
    "customer_ids = customer_profile['CustomerID'].values\n",
    "lookalike_results = {}\n",
    "for i in range(20):\n",
    "    similarities = similarity_matrix[i]\n",
    "    similar_indices = similarities.argsort()[-4:-1][::-1]\n",
    "    similar_customers = [(customer_ids[idx], round(similarities[idx], 4)) for idx in similar_indices]\n",
    "    lookalike_results[customer_ids[i]] = similar_customers\n",
    "\n",
    "# Save to CSV\n",
    "lookalike_df = pd.DataFrame([{'cust_id': k, 'lookalikes': v} for k, v in lookalike_results.items()])\n",
    "lookalike_df.to_csv('Lookalike.csv', index=False)\n"
   ]
  }
 ],
 "metadata": {},
 "nbformat": 4,
 "nbformat_minor": 5
}
