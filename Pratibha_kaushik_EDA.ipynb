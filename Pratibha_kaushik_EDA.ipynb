{
 "cells": [
  {
   "cell_type": "markdown",
   "id": "b249c76e",
   "metadata": {},
   "source": [
    "# Exploratory Data Analysis (EDA)"
   ]
  },
  {
   "cell_type": "code",
   "execution_count": null,
   "id": "36e3f885",
   "metadata": {},
   "outputs": [],
   "source": [
    "\n",
    "import pandas as pd\n",
    "import matplotlib.pyplot as plt\n",
    "import seaborn as sns\n",
    "\n",
    "# Load datasets\n",
    "customers = pd.read_csv('Customers.csv')\n",
    "products = pd.read_csv('Products.csv')\n",
    "transactions = pd.read_csv('Transactions.csv')\n",
    "\n",
    "# Convert date columns to datetime\n",
    "customers['SignupDate'] = pd.to_datetime(customers['SignupDate'])\n",
    "transactions['TransactionDate'] = pd.to_datetime(transactions['TransactionDate'])\n",
    "\n",
    "# Summary statistics\n",
    "transactions.describe()\n",
    "\n",
    "# Region distribution\n",
    "region_distribution = customers['Region'].value_counts()\n",
    "region_distribution.plot(kind='bar', color='skyblue', title='Customer Distribution by Region')\n",
    "plt.show()\n",
    "\n",
    "# Category distribution\n",
    "category_distribution = products['Category'].value_counts()\n",
    "category_distribution.plot(kind='bar', color='lightgreen', title='Product Distribution by Category')\n",
    "plt.show()\n",
    "\n",
    "# Total sales by region\n",
    "region_sales = transactions.merge(customers, on='CustomerID').groupby('Region')['TotalValue'].sum()\n",
    "region_sales.plot(kind='bar', color='orange', title='Total Sales by Region')\n",
    "plt.show()\n",
    "\n",
    "# Total sales by product category\n",
    "product_sales = transactions.merge(products, on='ProductID').groupby('Category')['TotalValue'].sum()\n",
    "product_sales.plot(kind='bar', color='purple', title='Total Sales by Product Category')\n",
    "plt.show()\n"
   ]
  }
 ],
 "metadata": {},
 "nbformat": 4,
 "nbformat_minor": 5
}
